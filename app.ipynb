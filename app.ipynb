{
 "cells": [
  {
   "cell_type": "code",
   "execution_count": 15,
   "metadata": {},
   "outputs": [
    {
     "name": "stdout",
     "output_type": "stream",
     "text": [
      "{'Valor Final': 18450}\n"
     ]
    }
   ],
   "source": [
    "from flask import Flask\n",
    "import pandas as pd \n",
    "import requests\n",
    "\n",
    "app = Flask(__name__)\n",
    "tabela = pd.read_excel(\"Vendas - Dez.xlsx\")\n",
    "\n",
    "@app.route(\"/\")\n",
    "def faturamento():\n",
    "    faturamento = tabela[\"Valor Final\"].sum() \n",
    "    return{\"faturamento\": faturamento}\n",
    "\n",
    "\n",
    "@app.route('/vendas/produtos')\n",
    "def vendas_produtos():\n",
    "    tabela_venda_produtos = tabela[['Produto', 'Valor Final']].groupby('Produto').sum()\n",
    "    dic_vendas_produtos = tabela_venda_produtos.to_dict()\n",
    "    return dic_vendas_produtos\n",
    "\n",
    "@app.route(\"/vendas/produtos/<produto>\") \n",
    "def fat_produto(produto): \n",
    "    tabela_vendas_produtos = tabela[[\"Produto\", \"Valor Final\"]].groupby(\"Produto\").sum()\n",
    "    if produto in tabela_vendas_produtos.index:\n",
    "        vendas_produto = tabela_vendas_produtos.loc[produto]\n",
    "        dic_vendas_produto = vendas_produto.to_dict()\n",
    "        return dic_vendas_produto\n",
    "    else:\n",
    "        return {produto: \"Inexistente\"}\n",
    "\n",
    "\n",
    "\n",
    "link = \"https://first-api.tassioalison.repl.co/vendas/produtos/Bermuda\"\n",
    "requisicao = requests.get(link)\n",
    "\n",
    "print(requisicao.json())"
   ]
  }
 ],
 "metadata": {
  "kernelspec": {
   "display_name": "Python 3",
   "language": "python",
   "name": "python3"
  },
  "language_info": {
   "codemirror_mode": {
    "name": "ipython",
    "version": 3
   },
   "file_extension": ".py",
   "mimetype": "text/x-python",
   "name": "python",
   "nbconvert_exporter": "python",
   "pygments_lexer": "ipython3",
   "version": "3.11.5"
  }
 },
 "nbformat": 4,
 "nbformat_minor": 2
}
